{
  "nbformat": 4,
  "nbformat_minor": 0,
  "metadata": {
    "colab": {
      "name": "exception handleing assignment rajdip .ipynb",
      "provenance": [],
      "collapsed_sections": []
    },
    "kernelspec": {
      "name": "python3",
      "display_name": "Python 3"
    }
  },
  "cells": [
    {
      "cell_type": "code",
      "metadata": {
        "id": "yFGIcPvp2icY",
        "colab_type": "code",
        "colab": {
          "base_uri": "https://localhost:8080/",
          "height": 51
        },
        "outputId": "57da10d2-2e8b-4ebf-9af6-966cbb78cf0e"
      },
      "source": [
        "# 1.\n",
        "\n",
        "try:\n",
        "    a=int(input('put an intiger:-'))\n",
        "    b=5/a\n",
        "    b\n",
        "except Exception as e:\n",
        "    print(e)"
      ],
      "execution_count": null,
      "outputs": [
        {
          "output_type": "stream",
          "text": [
            "put an intiger:-0\n",
            "division by zero\n"
          ],
          "name": "stdout"
        }
      ]
    },
    {
      "cell_type": "code",
      "metadata": {
        "id": "CaCMiAPv2-N3",
        "colab_type": "code",
        "colab": {
          "base_uri": "https://localhost:8080/",
          "height": 156
        },
        "outputId": "d2122d65-a7bf-4076-a569-611bd6dca32a"
      },
      "source": [
        "# 2.\n",
        "\n",
        "subjects=[\"Americans\", \"Indians\"]\n",
        "verbs=[\"play\",\"watch\"]\n",
        "objects=[\"Baseball\",\"Cricket\"]\n",
        "\n",
        "\n",
        "[[i+' '+j+' '+k] for i in subjects for j in verbs for k in objects]"
      ],
      "execution_count": null,
      "outputs": [
        {
          "output_type": "execute_result",
          "data": {
            "text/plain": [
              "[['Americans play Baseball'],\n",
              " ['Americans play Cricket'],\n",
              " ['Americans watch Baseball'],\n",
              " ['Americans watch Cricket'],\n",
              " ['Indians play Baseball'],\n",
              " ['Indians play Cricket'],\n",
              " ['Indians watch Baseball'],\n",
              " ['Indians watch Cricket']]"
            ]
          },
          "metadata": {
            "tags": []
          },
          "execution_count": 2
        }
      ]
    },
    {
      "cell_type": "code",
      "metadata": {
        "id": "LSIJ813R3t7U",
        "colab_type": "code",
        "colab": {}
      },
      "source": [
        ""
      ],
      "execution_count": null,
      "outputs": []
    }
  ]
}